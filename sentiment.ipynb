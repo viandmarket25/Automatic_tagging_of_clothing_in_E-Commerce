{
  "nbformat": 4,
  "nbformat_minor": 0,
  "metadata": {
    "colab": {
      "provenance": [],
      "gpuType": "T4",
      "authorship_tag": "ABX9TyOcX+0lK5TMOE6AU9dFVb4H",
      "include_colab_link": true
    },
    "kernelspec": {
      "name": "python3",
      "display_name": "Python 3"
    },
    "language_info": {
      "name": "python"
    },
    "accelerator": "TPU"
  },
  "cells": [
    {
      "cell_type": "markdown",
      "metadata": {
        "id": "view-in-github",
        "colab_type": "text"
      },
      "source": [
        "<a href=\"https://colab.research.google.com/github/viandmarket25/Automatic_tagging_of_clothing_in_E-Commerce/blob/master/sentiment.ipynb\" target=\"_parent\"><img src=\"https://colab.research.google.com/assets/colab-badge.svg\" alt=\"Open In Colab\"/></a>"
      ]
    },
    {
      "cell_type": "code",
      "execution_count": 2,
      "metadata": {
        "id": "wj3EqU-XNJAR"
      },
      "outputs": [],
      "source": [
        "import tensorflow as tf\n",
        "import matplotlib.pyplot as plt\n",
        "from transformers import DistilBertTokenizer, TFDistilBertForSequenceClassification\n",
        "import json\n"
      ]
    },
    {
      "cell_type": "code",
      "source": [
        "!pip install transformers"
      ],
      "metadata": {
        "id": "pU5Xw1l9NQQC"
      },
      "execution_count": null,
      "outputs": []
    },
    {
      "cell_type": "code",
      "source": [
        "\n",
        "with open('sent-d.json', 'r') as json_file:\n",
        "    sentiment_data = json.load(json_file)\n",
        "\n",
        "# Loop over the keys of the dictionary\n",
        "for key in sentiment_data:\n",
        "    print(key)\n",
        "\n",
        "# Define the 6 classes\n",
        "classes=[]\n",
        "# Loop over the keys of the dictionary\n",
        "for key in sentiment_data:\n",
        "    classes.append(key)\n",
        "    #print(key)\n",
        "\n",
        "text=[]\n",
        "\n",
        "max_d=1500\n",
        "epochs=50\n",
        "# Access data associated with each key\n",
        "for key in sentiment_data:\n",
        "    data = sentiment_data[key]\n",
        "    dc=0\n",
        "    newd=[]\n",
        "    for d in data:\n",
        "        if dc<max_d:\n",
        "            newd.append(d)\n",
        "            dc+=1\n",
        "\n",
        "    # use new and general length for all data llist\n",
        "    text=text+newd\n",
        "    #print(f\"Key: {key}, Data: {data}\")\n"
      ],
      "metadata": {
        "colab": {
          "base_uri": "https://localhost:8080/"
        },
        "id": "eZm-OzFtNRFS",
        "outputId": "97237718-c746-43e5-a09a-054cb0cab035"
      },
      "execution_count": 7,
      "outputs": [
        {
          "output_type": "stream",
          "name": "stdout",
          "text": [
            "fun\n",
            "relief\n",
            "worry\n",
            "neutral\n",
            "sadness\n",
            "anger\n",
            "love\n",
            "surprise\n",
            "fear\n",
            "happy\n"
          ]
        }
      ]
    },
    {
      "cell_type": "code",
      "source": [
        "\n",
        "# Create a DistilBERT tokenizer\n",
        "tokenizer = DistilBertTokenizer.from_pretrained(\"distilbert-base-uncased\")\n",
        "\n",
        "# Tokenize the text\n",
        "encoded_text = tokenizer(text, padding=True, truncation=True, max_length=512, return_tensors='tf')\n",
        "\n",
        "# Convert labels to numerical format\n",
        "labels = [classes.index(cls) for cls in classes for _ in range(max_d)]\n",
        "\n",
        "# Create a TensorFlow dataset\n",
        "dataset = tf.data.Dataset.from_tensor_slices((encoded_text['input_ids'], labels)).shuffle(len(text)).batch(32)\n",
        "\n",
        "# Split dataset into train and validation sets\n",
        "train_size = int(0.8 * len(text))\n",
        "train_dataset = dataset.take(train_size)\n",
        "val_dataset = dataset.skip(train_size)\n",
        "\n",
        "# Create a DistilBERT model\n",
        "model = TFDistilBertForSequenceClassification.from_pretrained(\"distilbert-base-uncased\", num_labels=len(classes))\n",
        "\n",
        "\n",
        "# Save the trained model\n",
        "#model.save_pretrained(\"distil-senti-bert\")\n",
        "#tokenizer.save_pretrained(\"distil-senti-bert\")\n",
        "\n",
        "# Define the optimizer and loss function\n",
        "optimizer = tf.keras.optimizers.Adam(learning_rate=2e-5)\n",
        "loss = tf.keras.losses.SparseCategoricalCrossentropy(from_logits=True)\n",
        "\n",
        "# Compile the model\n",
        "model.compile(optimizer=optimizer, loss=loss, metrics=['accuracy'])\n",
        "\n",
        "# Train the model\n",
        "history = model.fit(train_dataset, validation_data=val_dataset, epochs=epochs)\n",
        "\n",
        "# Save the trained model\n",
        "model.save_pretrained(\"distil-senti-bert\")\n",
        "tokenizer.save_pretrained(\"distil-senti-bert\")\n",
        "\n",
        "# Plot accuracy and loss\n",
        "plt.plot(history.history['accuracy'], label='Training Accuracy')\n",
        "#  plt.plot(history.history['val_accuracy'], label='Validation Accuracy')\n",
        "plt.plot(history.history['loss'], label='Training Loss')\n",
        "#plt.plot(history.history['val_loss'], label='Validation Loss')\n",
        "plt.xlabel('Epoch')\n",
        "plt.ylabel('Value')\n",
        "plt.title('Training and Validation Metrics')\n",
        "plt.legend()\n",
        "plt.savefig('metrics_plot.png')\n",
        "plt.show()\n",
        "\n",
        "# Enter the while loop for user input and prediction\n",
        "while True:\n",
        "    input_text = input(\"Enter a text for sentiment prediction (or 'exit' to quit): \")\n",
        "    if input_text == 'exit':\n",
        "        break\n",
        "    # Tokenize the input text\n",
        "    input_encoded = tokenizer.encode_plus(input_text, padding=True, truncation=True, max_length=512, return_tensors='tf')\n",
        "    # Make prediction\n",
        "    prediction = model.predict(input_encoded['input_ids'])[0]\n",
        "    predicted_class = classes[prediction.argmax()]\n",
        "    print(f\"The sentiment of '{input_text}' is '{predicted_class}'\")\n"
      ],
      "metadata": {
        "colab": {
          "base_uri": "https://localhost:8080/"
        },
        "id": "SxHAlilxN0WB",
        "outputId": "9068b114-e61f-4bd2-d62f-0fe3293f1dd5"
      },
      "execution_count": null,
      "outputs": [
        {
          "output_type": "stream",
          "name": "stderr",
          "text": [
            "Some weights of the PyTorch model were not used when initializing the TF 2.0 model TFDistilBertForSequenceClassification: ['vocab_layer_norm.weight', 'vocab_projector.bias', 'vocab_transform.weight', 'vocab_transform.bias', 'vocab_layer_norm.bias']\n",
            "- This IS expected if you are initializing TFDistilBertForSequenceClassification from a PyTorch model trained on another task or with another architecture (e.g. initializing a TFBertForSequenceClassification model from a BertForPreTraining model).\n",
            "- This IS NOT expected if you are initializing TFDistilBertForSequenceClassification from a PyTorch model that you expect to be exactly identical (e.g. initializing a TFBertForSequenceClassification model from a BertForSequenceClassification model).\n",
            "Some weights or buffers of the TF 2.0 model TFDistilBertForSequenceClassification were not initialized from the PyTorch model and are newly initialized: ['pre_classifier.weight', 'pre_classifier.bias', 'classifier.weight', 'classifier.bias']\n",
            "You should probably TRAIN this model on a down-stream task to be able to use it for predictions and inference.\n"
          ]
        },
        {
          "output_type": "stream",
          "name": "stdout",
          "text": [
            "Epoch 1/50\n",
            "  7/469 [..............................] - ETA: 2:19:53 - loss: 2.2935 - accuracy: 0.1205"
          ]
        }
      ]
    },
    {
      "cell_type": "code",
      "source": [
        "!zip -r distil-senti-bert.zip distil-senti-bert\n"
      ],
      "metadata": {
        "id": "gtMrFkztVg0C"
      },
      "execution_count": null,
      "outputs": []
    },
    {
      "cell_type": "code",
      "source": [
        "from google.colab import files\n",
        "files.download('distil-senti-bert.zip')\n"
      ],
      "metadata": {
        "colab": {
          "base_uri": "https://localhost:8080/",
          "height": 34
        },
        "id": "SLXWujzUZITM",
        "outputId": "994488b2-c15d-49fc-c410-bd33c393f69f"
      },
      "execution_count": null,
      "outputs": [
        {
          "output_type": "display_data",
          "data": {
            "text/plain": [
              "<IPython.core.display.Javascript object>"
            ],
            "application/javascript": [
              "\n",
              "    async function download(id, filename, size) {\n",
              "      if (!google.colab.kernel.accessAllowed) {\n",
              "        return;\n",
              "      }\n",
              "      const div = document.createElement('div');\n",
              "      const label = document.createElement('label');\n",
              "      label.textContent = `Downloading \"${filename}\": `;\n",
              "      div.appendChild(label);\n",
              "      const progress = document.createElement('progress');\n",
              "      progress.max = size;\n",
              "      div.appendChild(progress);\n",
              "      document.body.appendChild(div);\n",
              "\n",
              "      const buffers = [];\n",
              "      let downloaded = 0;\n",
              "\n",
              "      const channel = await google.colab.kernel.comms.open(id);\n",
              "      // Send a message to notify the kernel that we're ready.\n",
              "      channel.send({})\n",
              "\n",
              "      for await (const message of channel.messages) {\n",
              "        // Send a message to notify the kernel that we're ready.\n",
              "        channel.send({})\n",
              "        if (message.buffers) {\n",
              "          for (const buffer of message.buffers) {\n",
              "            buffers.push(buffer);\n",
              "            downloaded += buffer.byteLength;\n",
              "            progress.value = downloaded;\n",
              "          }\n",
              "        }\n",
              "      }\n",
              "      const blob = new Blob(buffers, {type: 'application/binary'});\n",
              "      const a = document.createElement('a');\n",
              "      a.href = window.URL.createObjectURL(blob);\n",
              "      a.download = filename;\n",
              "      div.appendChild(a);\n",
              "      a.click();\n",
              "      div.remove();\n",
              "    }\n",
              "  "
            ]
          },
          "metadata": {}
        },
        {
          "output_type": "display_data",
          "data": {
            "text/plain": [
              "<IPython.core.display.Javascript object>"
            ],
            "application/javascript": [
              "download(\"download_c30517a8-7c36-44a0-9abc-f96546ed014b\", \"distil-senti-bert.zip\", 246916008)"
            ]
          },
          "metadata": {}
        }
      ]
    }
  ]
}